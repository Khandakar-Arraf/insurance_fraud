{
 "cells": [
  {
   "attachments": {},
   "cell_type": "markdown",
   "metadata": {},
   "source": [
    "# Modeling\n",
    "\n",
    "In this notebook, the performance of different models is examined."
   ]
  },
  {
   "cell_type": "markdown",
   "metadata": {},
   "source": [
    "## Setup"
   ]
  },
  {
   "attachments": {},
   "cell_type": "markdown",
   "metadata": {},
   "source": [
    "Import libraries."
   ]
  },
  {
   "cell_type": "code",
   "execution_count": null,
   "metadata": {},
   "outputs": [],
   "source": [
    "import numpy as np\n",
    "import pandas as pd\n",
    "import seaborn as sns\n",
    "import matplotlib.pyplot as plt\n",
    "from imblearn.pipeline import make_pipeline\n",
    "from imblearn.over_sampling import SMOTE\n",
    "from sklearn.compose import make_column_transformer\n",
    "from sklearn.ensemble import GradientBoostingClassifier, RandomForestClassifier\n",
    "from sklearn.linear_model import LogisticRegression\n",
    "from sklearn.metrics import roc_auc_score,f1_score,confusion_matrix\n",
    "from sklearn.model_selection import cross_val_score, GridSearchCV, RandomizedSearchCV\n",
    "from sklearn.neighbors import KNeighborsClassifier\n",
    "from sklearn.preprocessing import OneHotEncoder, MinMaxScaler\n",
    "from xgboost import XGBClassifier\n",
    "from sklearn.model_selection import train_test_split\n",
    "from sklearn.ensemble import RandomForestClassifier\n",
    "from sklearn.metrics import accuracy_score, confusion_matrix, classification_report"
   ]
  },
  {
   "cell_type": "markdown",
   "metadata": {},
   "source": [
    "Load datasets."
   ]
  },
  {
   "cell_type": "code",
   "execution_count": 13,
   "metadata": {},
   "outputs": [
    {
     "name": "stdout",
     "output_type": "stream",
     "text": [
      "The number of columns in the CSV file is: 24\n"
     ]
    }
   ],
   "source": [
    "df_train = pd.read_csv(\"../data/processed/train.csv\")\n",
    "df_val = pd.read_csv(\"../data/processed/val.csv\")\n",
    "df_test = pd.read_csv(\"../data/processed/test.csv\")\n",
    "\n",
    "num_columns = df_val.shape[1]\n",
    "\n",
    "print(f\"The number of columns in the CSV file is: {num_columns}\")"
   ]
  },
  {
   "cell_type": "code",
   "execution_count": null,
   "metadata": {},
   "outputs": [],
   "source": [
    "X_train = df_train.drop(columns=[\"claim_number\", \"fraud\"])\n",
    "y_train = df_train[\"fraud\"]\n",
    "X_val = df_val.drop(columns=[\"fraud\"])\n",
    "y_val = df_val[\"fraud\"]\n",
    "X_test = df_test.drop(columns=[\"claim_number\"])"
   ]
  },
  {
   "cell_type": "markdown",
   "metadata": {},
   "source": [
    "## Model Selection"
   ]
  },
  {
   "attachments": {},
   "cell_type": "markdown",
   "metadata": {},
   "source": [
    "`OneHotEncoder` will dummify categorical features, and numerical features will be re-scaled with `MinMaxScaler`."
   ]
  },
  {
   "cell_type": "code",
   "execution_count": 14,
   "metadata": {},
   "outputs": [
    {
     "ename": "IndexError",
     "evalue": "boolean index did not match indexed array along dimension 0; dimension is 21 but corresponding boolean dimension is 22",
     "output_type": "error",
     "traceback": [
      "\u001b[1;31m---------------------------------------------------------------------------\u001b[0m",
      "\u001b[1;31mIndexError\u001b[0m                                Traceback (most recent call last)",
      "Cell \u001b[1;32mIn[14], line 1\u001b[0m\n\u001b[1;32m----> 1\u001b[0m categorical_features \u001b[39m=\u001b[39m X_train\u001b[39m.\u001b[39;49mdrop(\u001b[39m'\u001b[39;49m\u001b[39mUnnamed: 0\u001b[39;49m\u001b[39m'\u001b[39;49m, axis\u001b[39m=\u001b[39;49m\u001b[39m1\u001b[39;49m)\u001b[39m.\u001b[39;49mcolumns[X_train\u001b[39m.\u001b[39;49mdtypes \u001b[39m==\u001b[39;49m \u001b[39mobject\u001b[39;49m]\u001b[39m.\u001b[39mtolist()\n\u001b[0;32m      2\u001b[0m column_transformer \u001b[39m=\u001b[39m make_column_transformer(\n\u001b[0;32m      3\u001b[0m     (OneHotEncoder(drop\u001b[39m=\u001b[39m\u001b[39m\"\u001b[39m\u001b[39mfirst\u001b[39m\u001b[39m\"\u001b[39m), categorical_features),\n\u001b[0;32m      4\u001b[0m     remainder\u001b[39m=\u001b[39m\u001b[39m\"\u001b[39m\u001b[39mpassthrough\u001b[39m\u001b[39m\"\u001b[39m,\n\u001b[0;32m      5\u001b[0m )\n\u001b[0;32m      6\u001b[0m scaler \u001b[39m=\u001b[39m MinMaxScaler()\n",
      "File \u001b[1;32mc:\\Users\\arraf\\AppData\\Local\\Programs\\Python\\Python311\\Lib\\site-packages\\pandas\\core\\indexes\\base.py:5196\u001b[0m, in \u001b[0;36mIndex.__getitem__\u001b[1;34m(self, key)\u001b[0m\n\u001b[0;32m   5193\u001b[0m     \u001b[39melse\u001b[39;00m:\n\u001b[0;32m   5194\u001b[0m         key \u001b[39m=\u001b[39m np\u001b[39m.\u001b[39masarray(key, dtype\u001b[39m=\u001b[39m\u001b[39mbool\u001b[39m)\n\u001b[1;32m-> 5196\u001b[0m result \u001b[39m=\u001b[39m getitem(key)\n\u001b[0;32m   5197\u001b[0m \u001b[39m# Because we ruled out integer above, we always get an arraylike here\u001b[39;00m\n\u001b[0;32m   5198\u001b[0m \u001b[39mif\u001b[39;00m result\u001b[39m.\u001b[39mndim \u001b[39m>\u001b[39m \u001b[39m1\u001b[39m:\n",
      "\u001b[1;31mIndexError\u001b[0m: boolean index did not match indexed array along dimension 0; dimension is 21 but corresponding boolean dimension is 22"
     ]
    }
   ],
   "source": [
    "\n",
    "\n",
    "categorical_features = X_train.columns[X_train.dtypes == object].tolist()\n",
    "column_transformer = make_column_transformer(\n",
    "    (OneHotEncoder(drop=\"first\"), categorical_features),\n",
    "    remainder=\"passthrough\",\n",
    ")\n",
    "scaler = MinMaxScaler()"
   ]
  },
  {
   "attachments": {},
   "cell_type": "markdown",
   "metadata": {},
   "source": [
    "A simple function that defines the training pipeline: fit the model, predict on the validation set, print the evaluation metric."
   ]
  },
  {
   "cell_type": "code",
   "execution_count": 2,
   "metadata": {},
   "outputs": [],
   "source": [
    "from sklearn.compose import make_column_transformer\n",
    "from sklearn.preprocessing import MinMaxScaler, OneHotEncoder\n",
    "from sklearn.pipeline import make_pipeline\n",
    "from sklearn.model_selection import train_test_split\n",
    "\n",
    "# Assuming you have loaded your data into X_train, y_train, X_val, y_val\n",
    "# ...\n",
    "\n",
    "# Define categorical features\n",
    "categorical_features = X_train.columns[X_train.dtypes == object].tolist()\n",
    "\n",
    "# Set up a column transformer for preprocessing\n",
    "column_transformer = make_column_transformer(\n",
    "    (OneHotEncoder(drop=\"first\"), categorical_features),\n",
    "    remainder=\"passthrough\",\n",
    ")\n",
    "\n",
    "# Initialize a MinMaxScaler for scaling numerical features\n",
    "scaler = MinMaxScaler()\n",
    "\n",
    "# Create a machine learning pipeline\n",
    "pipeline = make_pipeline(column_transformer, scaler)\n",
    "\n",
    "# Fit and transform the training data\n",
    "X_train_transformed = pipeline.fit_transform(X_train)\n",
    "\n",
    "# Transform the validation data\n",
    "X_val_transformed = pipeline.transform(X_val)\n"
   ]
  },
  {
   "attachments": {},
   "cell_type": "markdown",
   "metadata": {},
   "source": [
    "### K-Nearest Neighbor\n",
    "\n",
    "KNN has two hyperparameters: the number of neighbors, and whether all points in each neighborhood are weighted equally or weighted by the inverse of their distance. Since the number of hyperparameters is small. A grid search is used to find the optimal hyperparameter values."
   ]
  },
  {
   "cell_type": "code",
   "execution_count": 12,
   "metadata": {},
   "outputs": [
    {
     "name": "stdout",
     "output_type": "stream",
     "text": [
      "Best params from GridSearchCV for KNN: {'kneighborsclassifier__n_neighbors': 7, 'kneighborsclassifier__p': 2, 'kneighborsclassifier__weights': 'uniform'}\n",
      "Accuracy for KNN: 0.5918310641844957\n",
      "AUC score for KNN: 0.6111850639268711\n",
      "F1 score for KNN: 0.29746532759445243\n"
     ]
    }
   ],
   "source": [
    "from sklearn.neighbors import KNeighborsClassifier\n",
    "from sklearn.ensemble import RandomForestClassifier\n",
    "from sklearn.model_selection import GridSearchCV\n",
    "from sklearn.pipeline import make_pipeline\n",
    "from sklearn.compose import make_column_transformer\n",
    "from sklearn.preprocessing import OneHotEncoder, MinMaxScaler\n",
    "from sklearn.metrics import f1_score, roc_auc_score, accuracy_score\n",
    "from imblearn.over_sampling import SMOTE\n",
    "from imblearn.pipeline import make_pipeline as make_imb_pipeline\n",
    "\n",
    "# Define your K-Nearest Neighbors Classifier\n",
    "knnclf = KNeighborsClassifier()\n",
    "\n",
    "# Define the column transformer and scaler\n",
    "categorical_features = X_train.columns[X_train.dtypes == object].tolist()\n",
    "column_transformer = make_column_transformer(\n",
    "    (OneHotEncoder(drop=\"first\"), categorical_features),\n",
    "    remainder=\"passthrough\",\n",
    ")\n",
    "scaler = MinMaxScaler()\n",
    "\n",
    "# Define the pipeline with SMOTE for handling class imbalance\n",
    "pipeline_knn = make_imb_pipeline(\n",
    "    column_transformer,\n",
    "    scaler,\n",
    "    SMOTE(random_state=42),  # Using SMOTE for oversampling\n",
    "    knnclf\n",
    ")\n",
    "\n",
    "# Hyperparameter tuning using GridSearchCV for KNN\n",
    "param_grid_knn = {\n",
    "    'kneighborsclassifier__n_neighbors': [3, 5, 7,10],\n",
    "    'kneighborsclassifier__weights': ['uniform', 'distance'],\n",
    "    'kneighborsclassifier__p': [1, 2]\n",
    "}\n",
    "\n",
    "grid_search_knn = GridSearchCV(pipeline_knn, param_grid_knn, cv=5, scoring='f1', n_jobs=-1)\n",
    "grid_search_knn.fit(X_train, y_train)\n",
    "\n",
    "# Get the best KNN model from the grid search\n",
    "best_model_knn = grid_search_knn.best_estimator_\n",
    "\n",
    "# Make predictions on the validation set using KNN\n",
    "y_val_pred_proba_knn = best_model_knn.predict_proba(X_val)[:, 1]\n",
    "y_val_pred_knn = (y_val_pred_proba_knn > 0.5).astype(int)  # Adjust threshold if needed\n",
    "\n",
    "# Evaluate the performance of KNN\n",
    "accuracy_knn = accuracy_score(y_val, y_val_pred_knn)\n",
    "metric_knn = roc_auc_score(y_val, y_val_pred_proba_knn)\n",
    "metric_f1_knn = f1_score(y_val, y_val_pred_knn)\n",
    "\n",
    "# Print the results for KNN\n",
    "print(f\"Best params from GridSearchCV for KNN: {grid_search_knn.best_params_}\")\n",
    "print(f\"Accuracy for KNN: {accuracy_knn}\")\n",
    "print(f\"AUC score for KNN: {metric_knn}\")\n",
    "print(f\"F1 score for KNN: {metric_f1_knn}\")\n"
   ]
  },
  {
   "cell_type": "markdown",
   "metadata": {},
   "source": [
    "Confusion matrix of KNN"
   ]
  },
  {
   "cell_type": "code",
   "execution_count": 13,
   "metadata": {},
   "outputs": [
    {
     "data": {
      "image/png": "[encoded data removed]",
      "text/plain": [
       "<Figure size 640x480 with 2 Axes>"
      ]
     },
     "metadata": {},
     "output_type": "display_data"
    }
   ],
   "source": [
    "import numpy as np\n",
    "import pandas as pd\n",
    "import seaborn as sns\n",
    "\n",
    "\n",
    "predicted_labels = np.array(y_val_pred_knn)\n",
    "true_labels = np.array(y_val)\n",
    "\n",
    "conf_matrix = confusion_matrix(true_labels, predicted_labels)\n",
    "\n",
    "class_labels = ['Class 0', 'Class 1']\n",
    "\n",
    "\n",
    "# Create a heatmap\n",
    "sns.heatmap(conf_matrix, annot=True, fmt='d', cmap='Blues', xticklabels=class_labels, yticklabels=class_labels)\n",
    "\n",
    "# Add labels and title\n",
    "plt.xlabel('Predicted Label')\n",
    "plt.ylabel('True Label')\n",
    "plt.title('Confusion Matrix')\n",
    "\n",
    "# Show the plot\n",
    "plt.show()\n",
    "\n"
   ]
  },
  {
   "attachments": {},
   "cell_type": "markdown",
   "metadata": {},
   "source": [
    "### Logistic Regression with custom threshold\n",
    "\n",
    "For logistic regression, there is no hyperparameter to tune."
   ]
  },
  {
   "cell_type": "code",
   "execution_count": 9,
   "metadata": {},
   "outputs": [
    {
     "name": "stdout",
     "output_type": "stream",
     "text": [
      "Confusion Matrix with Custom Threshold:\n",
      "[[2639  398]\n",
      " [ 364  198]]\n",
      "F1 Score with Custom Threshold: 0.34196891191709844\n",
      "0.7882745207001945\n"
     ]
    }
   ],
   "source": [
    "import pandas as pd\n",
    "from sklearn.model_selection import GridSearchCV, train_test_split\n",
    "from sklearn.compose import make_column_transformer\n",
    "from sklearn.preprocessing import MinMaxScaler, OneHotEncoder\n",
    "from sklearn.linear_model import LogisticRegression\n",
    "from sklearn.metrics import confusion_matrix, f1_score,accuracy_score\n",
    "from sklearn.pipeline import make_pipeline\n",
    "\n",
    "# loading datasets\n",
    "\n",
    "df_train = pd.read_csv(\"../data/processed/train.csv\")\n",
    "df_val = pd.read_csv(\"../data/processed/val.csv\")\n",
    "df_test = pd.read_csv(\"../data/processed/test.csv\")\n",
    "\n",
    "# Split the data into features (X) and labels (y)\n",
    "X_train = df_train.drop(columns=[\"claim_number\", \"fraud\"])\n",
    "y_train = df_train[\"fraud\"]\n",
    "X_val = df_val.drop(columns=[\"claim_number\", \"fraud\"])\n",
    "y_val = df_val[\"fraud\"]\n",
    "\n",
    "# Define categorical features\n",
    "categorical_features = X_train.columns[X_train.dtypes == object].tolist()\n",
    "\n",
    "# Set up a column transformer for preprocessing\n",
    "column_transformer = make_column_transformer(\n",
    "    (OneHotEncoder(drop=\"first\"), categorical_features),\n",
    "    remainder=\"passthrough\",\n",
    ")\n",
    "\n",
    "# Initialize a MinMaxScaler for scaling numerical features\n",
    "scaler = MinMaxScaler()\n",
    "\n",
    "# Create a machine learning pipeline\n",
    "pipeline = make_pipeline(column_transformer, scaler)\n",
    "\n",
    "# Fit and transform the training data\n",
    "X_train_transformed = pipeline.fit_transform(X_train)\n",
    "\n",
    "# Transform the validation data\n",
    "X_val_transformed = pipeline.transform(X_val)\n",
    "\n",
    "# Define the parameter grid for logistic regression\n",
    "param_grid = {\n",
    "    'C': [0.001, 0.01, 0.1, 1, 10, 100,1000],\n",
    "    'penalty': ['l2'],  # Use 'l2' penalty for lbfgs solver\n",
    "}\n",
    "\n",
    "# Create a logistic regression classifier\n",
    "logreg_clf = LogisticRegression(solver='lbfgs', random_state=50)\n",
    "\n",
    "# Create a GridSearchCV object\n",
    "grid_search = GridSearchCV(\n",
    "    logreg_clf,\n",
    "    param_grid=param_grid,\n",
    "    cv=5,\n",
    "    scoring='f1',\n",
    "    n_jobs=-1,\n",
    ")\n",
    "\n",
    "# Fit the model on the training data\n",
    "grid_search.fit(X_train_transformed, y_train)\n",
    "\n",
    "# Get the best model from the grid search\n",
    "best_logreg_model1 = grid_search.best_estimator_\n",
    "\n",
    "# Make predictions on the validation set with probabilities\n",
    "val_probabilities = best_logreg_model1.predict_proba(X_val_transformed)[:, 1]\n",
    "#val_probabilities = best_logreg_model.predict(X_val_transformed)\n",
    "# Set a custom threshold (experiment with different values)\n",
    "custom_threshold = 0.25\n",
    "\n",
    "# Convert probabilities to binary predictions based on the custom threshold\n",
    "val_predictions_custom_threshold = (val_probabilities > custom_threshold).astype(int)\n",
    "\n",
    "# Calculate the confusion matrix and F1 score with the custom threshold\n",
    "conf_matrix_custom_threshold = confusion_matrix(y_val, val_predictions_custom_threshold)\n",
    "f1_custom_threshold = f1_score(y_val, val_predictions_custom_threshold)\n",
    "accuracy = accuracy_score(y_val, val_predictions_custom_threshold)\n",
    "\n",
    "print(\"Confusion Matrix with Custom Threshold:\")\n",
    "print(conf_matrix_custom_threshold)\n",
    "print(\"F1 Score with Custom Threshold:\", f1_custom_threshold)\n",
    "print(accuracy)"
   ]
  },
  {
   "cell_type": "code",
   "execution_count": 8,
   "metadata": {},
   "outputs": [
    {
     "data": {
      "image/png": "[encoded data removed]",
      "text/plain": [
       "<Figure size 640x480 with 2 Axes>"
      ]
     },
     "metadata": {},
     "output_type": "display_data"
    }
   ],
   "source": [
    "import numpy as np\n",
    "import pandas as pd\n",
    "import seaborn as sns\n",
    "import matplotlib.pyplot as plt\n",
    "\n",
    "predicted_labels = np.array(val_predictions_custom_threshold)\n",
    "true_labels = np.array(y_val)\n",
    "\n",
    "conf_matrix = confusion_matrix(true_labels, predicted_labels)\n",
    "\n",
    "class_labels = ['Class 0', 'Class 1']\n",
    "\n",
    "\n",
    "# Create a heatmap\n",
    "sns.heatmap(conf_matrix, annot=True, fmt='d', cmap='Blues', xticklabels=class_labels, yticklabels=class_labels)\n",
    "\n",
    "# Add labels and title\n",
    "plt.xlabel('Predicted Label')\n",
    "plt.ylabel('True Label')\n",
    "plt.title('Confusion Matrix')\n",
    "\n",
    "# Show the plot\n",
    "plt.show()\n",
    "\n"
   ]
  },
  {
   "cell_type": "markdown",
   "metadata": {},
   "source": [
    "###\n",
    "Logistic regresion with majority minority weight sampling.\n"
   ]
  },
  {
   "cell_type": "code",
   "execution_count": 7,
   "metadata": {},
   "outputs": [
    {
     "name": "stdout",
     "output_type": "stream",
     "text": [
      "Confusion Matrix with Custom Weights:\n",
      "[[2605  432]\n",
      " [ 347  215]]\n",
      "F1 Score with Custom Weights: 0.3556658395368073\n",
      "Accuracy with Custom Weights: 0.783550986385107\n"
     ]
    }
   ],
   "source": [
    "from sklearn.linear_model import LogisticRegression\n",
    "from sklearn.metrics import f1_score, accuracy_score, confusion_matrix\n",
    "from sklearn.model_selection import GridSearchCV\n",
    "from sklearn.compose import make_column_transformer\n",
    "from sklearn.preprocessing import MinMaxScaler, OneHotEncoder\n",
    "from sklearn.pipeline import make_pipeline\n",
    "import pandas as pd\n",
    "\n",
    "# loading datasets\n",
    "\n",
    "df_train = pd.read_csv(\"../data/processed/train.csv\")\n",
    "df_val = pd.read_csv(\"../data/processed/val.csv\")\n",
    "df_test = pd.read_csv(\"../data/processed/test.csv\")\n",
    "\n",
    "# Split the data into features (X) and labels (y)\n",
    "X_train = df_train.drop(columns=[\"claim_number\", \"fraud\"])\n",
    "y_train = df_train[\"fraud\"]\n",
    "X_val = df_val.drop(columns=[\"claim_number\", \"fraud\"])\n",
    "y_val = df_val[\"fraud\"]\n",
    "\n",
    "# Define categorical features\n",
    "categorical_features = X_train.columns[X_train.dtypes == object].tolist()\n",
    "\n",
    "# Set up a column transformer for preprocessing\n",
    "column_transformer = make_column_transformer(\n",
    "    (OneHotEncoder(drop=\"first\"), categorical_features),\n",
    "    remainder=\"passthrough\",\n",
    ")\n",
    "\n",
    "# Initialize a MinMaxScaler for scaling numerical features\n",
    "scaler = MinMaxScaler()\n",
    "\n",
    "# Create a machine learning pipeline\n",
    "pipeline = make_pipeline(column_transformer, scaler)\n",
    "\n",
    "# Fit and transform the training data\n",
    "X_train_transformed = pipeline.fit_transform(X_train)\n",
    "\n",
    "# Transform the validation data\n",
    "X_val_transformed = pipeline.transform(X_val)\n",
    "\n",
    "# Define the parameter grid for logistic regression\n",
    "param_grid = {\n",
    "    'C': [0.001, 0.01, 0.1, 1, 10, 100],\n",
    "    'penalty': ['l2'],\n",
    "    \n",
    "}\n",
    "\n",
    "# Define custom class weights\n",
    "custom_class_weights = {0: 2.5, 1: 7.8}  # Adjust the weights as needed\n",
    "\n",
    "# Create a logistic regression classifier with custom class weights\n",
    "logreg_clf_custom_weights = LogisticRegression(solver='lbfgs', class_weight=custom_class_weights, random_state=42)\n",
    "\n",
    "# Fit the model on the training data\n",
    "logreg_clf_custom_weights.fit(X_train_transformed, y_train)\n",
    "\n",
    "# Make predictions on the validation set\n",
    "val_predictions_custom_weights = logreg_clf_custom_weights.predict(X_val_transformed)\n",
    "\n",
    "# Calculate the confusion matrix, F1 score, and accuracy\n",
    "conf_matrix_custom_weights = confusion_matrix(y_val, val_predictions_custom_weights)\n",
    "f1_custom_weights = f1_score(y_val, val_predictions_custom_weights)\n",
    "accuracy_custom_weights = accuracy_score(y_val, val_predictions_custom_weights)\n",
    "\n",
    "print(\"Confusion Matrix with Custom Weights:\")\n",
    "print(conf_matrix_custom_weights)\n",
    "print(\"F1 Score with Custom Weights:\", f1_custom_weights)\n",
    "print(\"Accuracy with Custom Weights:\", accuracy_custom_weights)\n",
    "\n"
   ]
  },
  {
   "cell_type": "markdown",
   "metadata": {},
   "source": [
    "### Confusion matrix of logistic regression with data sampling.\n"
   ]
  },
  {
   "cell_type": "code",
   "execution_count": 44,
   "metadata": {},
   "outputs": [
    {
     "data": {
      "image/png": "[encoded data removed]",
      "text/plain": [
       "<Figure size 640x480 with 2 Axes>"
      ]
     },
     "metadata": {},
     "output_type": "display_data"
    }
   ],
   "source": [
    "predicted_labels = np.array(val_predictions_custom_weights)\n",
    "true_labels = np.array(y_val)\n",
    "\n",
    "conf_matrix = confusion_matrix(true_labels, predicted_labels)\n",
    "\n",
    "class_labels = ['Class 0', 'Class 1']\n",
    "\n",
    "\n",
    "# Create a heatmap\n",
    "sns.heatmap(conf_matrix, annot=True, fmt='d', cmap='Blues', xticklabels=class_labels, yticklabels=class_labels)\n",
    "\n",
    "# Add labels and title\n",
    "plt.xlabel('Predicted Label')\n",
    "plt.ylabel('True Label')\n",
    "plt.title('Confusion Matrix')\n",
    "\n",
    "# Show the plot\n",
    "plt.show()\n",
    "\n"
   ]
  },
  {
   "attachments": {},
   "cell_type": "markdown",
   "metadata": {},
   "source": [
    "Look at the model coefficients."
   ]
  },
  {
   "cell_type": "code",
   "execution_count": null,
   "metadata": {},
   "outputs": [],
   "source": [
    "def add_dummies(df, categorical_features):\n",
    "    dummies = pd.get_dummies(df[categorical_features], drop_first=True)\n",
    "    df = pd.concat([dummies, df], axis=1)\n",
    "    df = df.drop(categorical_features, axis=1)\n",
    "    return df.columns\n",
    "\n",
    "feature_names = add_dummies(X_train, categorical_features)\n",
    "\n",
    "pd.DataFrame({\n",
    "    \"feature_name\": feature_names,\n",
    "    \"coefficient\": lr_pipeline._final_estimator.coef_[0]\n",
    "}).sort_values(by=\"coefficient\", ascending=False).reset_index(drop=True)"
   ]
  },
  {
   "attachments": {},
   "cell_type": "markdown",
   "metadata": {},
   "source": [
    "### XGBoost\n",
    "\n",
    "Since there are many hyperparameters in XGBoost, I decide to use a randomized search for hyperparameter tuning."
   ]
  },
  {
   "cell_type": "code",
   "execution_count": null,
   "metadata": {},
   "outputs": [],
   "source": [
    "from xgboost import XGBClassifier\n",
    "from sklearn.model_selection import GridSearchCV\n",
    "from sklearn.pipeline import make_pipeline\n",
    "from sklearn.compose import make_column_transformer\n",
    "from sklearn.preprocessing import OneHotEncoder, MinMaxScaler\n",
    "from sklearn.metrics import f1_score, roc_auc_score, accuracy_score\n",
    "from imblearn.over_sampling import SMOTE\n",
    "from imblearn.pipeline import make_pipeline as make_imb_pipeline\n",
    "\n",
    "\n",
    "# loading datasets\n",
    "\n",
    "df_train = pd.read_csv(\"../data/processed/train.csv\")\n",
    "df_val = pd.read_csv(\"../data/processed/val.csv\")\n",
    "df_test = pd.read_csv(\"../data/processed/test.csv\")\n",
    "\n",
    "# Split the data into features (X) and labels (y)\n",
    "X_train = df_train.drop(columns=[\"claim_number\", \"fraud\"])\n",
    "y_train = df_train[\"fraud\"]\n",
    "X_val = df_val.drop(columns=[\"claim_number\", \"fraud\"])\n",
    "y_val = df_val[\"fraud\"]\n",
    "\n",
    "\n",
    "# Define your XGBoost Classifier\n",
    "xgbclf = XGBClassifier(random_state=42)\n",
    "\n",
    "# Define the column transformer and scaler\n",
    "categorical_features = X_train.columns[X_train.dtypes == object].tolist()\n",
    "column_transformer = make_column_transformer(\n",
    "    (OneHotEncoder(drop=\"first\"), categorical_features),\n",
    "    remainder=\"passthrough\",\n",
    ")\n",
    "scaler = MinMaxScaler()\n",
    "\n",
    "# Define the pipeline with SMOTE for handling class imbalance\n",
    "pipeline_xgb = make_imb_pipeline(\n",
    "    column_transformer,\n",
    "    scaler,\n",
    "    SMOTE(random_state=42),  # Using SMOTE for oversampling\n",
    "    xgbclf\n",
    ")\n",
    "\n",
    "# Hyperparameter tuning using GridSearchCV for XGBoost\n",
    "param_grid_xgb = {\n",
    "    'xgbclassifier__n_estimators': [50, 100, 200],\n",
    "    'xgbclassifier__learning_rate': [0.01, 0.1, 0.2],\n",
    "    'xgbclassifier__max_depth': [3, 5, 7],\n",
    "    'xgbclassifier__subsample': [0.8, 1.0],\n",
    "    'xgbclassifier__colsample_bytree': [0.8, 1.0]\n",
    "}\n",
    "\n",
    "grid_search_xgb = GridSearchCV(pipeline_xgb, param_grid_xgb, cv=5, scoring='f1', n_jobs=-1)\n",
    "grid_search_xgb.fit(X_train, y_train)\n",
    "\n",
    "# Get the best XGBoost model from the grid search\n",
    "best_model_xgb = grid_search_xgb.best_estimator_\n",
    "\n",
    "# Define your XGBoost Classifier\n",
    "xgbclf = XGBClassifier(random_state=42)\n",
    "\n",
    "# Fit the XGBoost model with your data\n",
    "xgbclf.fit(X_train, y_train)\n",
    "\n",
    "# Make predictions on the validation set\n",
    "y_val_pred_proba = xgbclf.predict_proba(X_val)[:, 1]\n",
    "threshold = 0.3  # Adjust the threshold based on experimentation\n",
    "y_val_pred = (y_val_pred_proba > threshold).astype(int)\n",
    "\n",
    "# Evaluate the performance\n",
    "accuracy = accuracy_score(y_val, y_val_pred)\n",
    "metric = roc_auc_score(y_val, y_val_pred_proba)\n",
    "metric_f1 = f1_score(y_val, y_val_pred)\n",
    "\n",
    "# Print the results\n",
    "print(f\"Accuracy: {accuracy}\")\n",
    "print(f\"AUC score: {metric}\")\n",
    "print(f\"F1 score: {metric_f1}\")\n"
   ]
  },
  {
   "cell_type": "markdown",
   "metadata": {},
   "source": [
    "Confusion matrix of xgboost"
   ]
  },
  {
   "cell_type": "code",
   "execution_count": null,
   "metadata": {},
   "outputs": [],
   "source": [
    "import seaborn as sns\n",
    "import matplotlib.pyplot as plt\n",
    "\n",
    "predicted_labels = np.array(val_predictions_custom_weights)\n",
    "true_labels = np.array(y_val)\n",
    "\n",
    "conf_matrix = confusion_matrix(true_labels, predicted_labels)\n",
    "\n",
    "class_labels = ['Class 0', 'Class 1']\n",
    "\n",
    "\n",
    "# Create a heatmap\n",
    "sns.heatmap(conf_matrix, annot=True, fmt='d', cmap='Blues', xticklabels=class_labels, yticklabels=class_labels)\n",
    "\n",
    "# Add labels and title\n",
    "plt.xlabel('Predicted Label')\n",
    "plt.ylabel('True Label')\n",
    "plt.title('Confusion Matrix')\n",
    "\n",
    "# Show the plot\n",
    "plt.show()\n",
    "\n"
   ]
  },
  {
   "cell_type": "markdown",
   "metadata": {},
   "source": [
    "### Random Forest"
   ]
  },
  {
   "cell_type": "markdown",
   "metadata": {},
   "source": [
    "Here I implemented random forest with different n estimators and random state to see the difference in metrics."
   ]
  },
  {
   "cell_type": "code",
   "execution_count": null,
   "metadata": {},
   "outputs": [],
   "source": [
    "from sklearn.ensemble import RandomForestClassifier\n",
    "from sklearn.model_selection import GridSearchCV\n",
    "from sklearn.pipeline import make_pipeline\n",
    "from sklearn.compose import make_column_transformer\n",
    "from sklearn.preprocessing import OneHotEncoder, MinMaxScaler\n",
    "from sklearn.metrics import f1_score, roc_auc_score, accuracy_score\n",
    "from imblearn.over_sampling import SMOTE\n",
    "from imblearn.pipeline import make_pipeline as make_imb_pipeline\n",
    "import pandas as pd\n",
    "\n",
    "\n",
    "#load dataset\n",
    "df_train = pd.read_csv(\"../data/processed/train.csv\")\n",
    "df_val = pd.read_csv(\"../data/processed/val.csv\")\n",
    "df_test = pd.read_csv(\"../data/processed/test.csv\")\n",
    "\n",
    "# Split the data into features (X) and labels (y)\n",
    "X_train = df_train.drop(columns=[\"claim_number\", \"fraud\"])\n",
    "y_train = df_train[\"fraud\"]\n",
    "X_val = df_val.drop(columns=[\"claim_number\", \"fraud\"])\n",
    "y_val = df_val[\"fraud\"]\n",
    "\n",
    "\n",
    "# Define your Random Forest Classifier\n",
    "rfclf = RandomForestClassifier(random_state=42)\n",
    "\n",
    "# Define the column transformer and scaler\n",
    "categorical_features = X_train.columns[X_train.dtypes == object].tolist()\n",
    "column_transformer = make_column_transformer(\n",
    "    (OneHotEncoder(drop=\"first\"), categorical_features),\n",
    "    remainder=\"passthrough\",\n",
    ")\n",
    "scaler = MinMaxScaler()\n",
    "\n",
    "# Define the pipeline with SMOTE for handling class imbalance\n",
    "pipeline = make_imb_pipeline(\n",
    "    column_transformer,\n",
    "    scaler,\n",
    "    SMOTE(random_state=42),  # Using SMOTE for oversampling\n",
    "    rfclf\n",
    ")\n",
    "\n",
    "# Hyperparameter tuning using GridSearchCV\n",
    "param_grid = {\n",
    "    'randomforestclassifier__n_estimators': [100],\n",
    "    'randomforestclassifier__max_depth': [None, 10, 20],\n",
    "    'randomforestclassifier__min_samples_split': [2, 5, 10],\n",
    "    'randomforestclassifier__min_samples_leaf': [1, 2, 4]\n",
    "}\n",
    "\n",
    "grid_search = GridSearchCV(pipeline, param_grid, cv=5, scoring='f1', n_jobs=-1)\n",
    "grid_search.fit(X_train, y_train)\n",
    "\n",
    "# Get the best model from the grid search\n",
    "best_model = grid_search.best_estimator_\n",
    "\n",
    "# Make predictions on the validation set\n",
    "y_val_pred_proba = best_model.predict_proba(X_val)[:, 1]\n",
    "y_val_pred = (y_val_pred_proba > 0.5).astype(int)  # Adjust threshold if needed\n",
    "\n",
    "# Evaluate the performance\n",
    "accuracy = accuracy_score(y_val, y_val_pred)\n",
    "metric = roc_auc_score(y_val, y_val_pred_proba)\n",
    "metric_f1 = f1_score(y_val, y_val_pred)\n",
    "\n",
    "# Print the results\n",
    "print(f\"Best params from GridSearchCV: {grid_search.best_params_}\")\n",
    "print(f\"Accuracy: {accuracy}\")\n",
    "print(f\"AUC score: {metric}\")\n",
    "print(f\"F1 score: {metric_f1}\")\n"
   ]
  },
  {
   "cell_type": "markdown",
   "metadata": {},
   "source": [
    "### Confusion matrix of Random forest classifier\n"
   ]
  },
  {
   "cell_type": "code",
   "execution_count": null,
   "metadata": {},
   "outputs": [],
   "source": [
    "predicted_labels = np.array(y_val_pred)\n",
    "true_labels = np.array(y_val)\n",
    "\n",
    "conf_matrix = confusion_matrix(true_labels, predicted_labels)\n",
    "\n",
    "class_labels = ['Class 0', 'Class 1']\n",
    "\n",
    "\n",
    "# Create a heatmap\n",
    "sns.heatmap(conf_matrix, annot=True, fmt='d', cmap='Blues', xticklabels=class_labels, yticklabels=class_labels)\n",
    "\n",
    "# Add labels and title\n",
    "plt.xlabel('Predicted Label')\n",
    "plt.ylabel('True Label')\n",
    "plt.title('Confusion Matrix')\n",
    "\n",
    "# Show the plot\n",
    "plt.show()\n",
    "\n"
   ]
  },
  {
   "attachments": {},
   "cell_type": "markdown",
   "metadata": {},
   "source": [
    "To examine which feature is important, I introduce a feature with random numbers. A feature can be considered as important If the importance of that feature is larger than that of the random feature."
   ]
  },
  {
   "cell_type": "code",
   "execution_count": null,
   "metadata": {},
   "outputs": [],
   "source": [
    "X_train[\"random_feature\"] = np.random.uniform(size=len(X_train))\n",
    "xgb_clf_random_feature = XGBClassifier(**xgb_pipeline._final_estimator.best_params_)\n",
    "steps = [column_transformer, scaler, xgb_clf_random_feature]\n",
    "xgb_pipeline_random_feature = make_pipeline(*steps)\n",
    "xgb_pipeline_random_feature = xgb_pipeline_random_feature.fit(X_train, y_train)\n",
    "\n",
    "pd.DataFrame({\n",
    "    \"feature_name\": list(feature_names) + [\"random_feature\"],\n",
    "    \"importance\": xgb_pipeline_random_feature._final_estimator.feature_importances_\n",
    "}).sort_values(by=\"importance\", ascending=False).reset_index(drop=True)"
   ]
  },
  {
   "cell_type": "code",
   "execution_count": 10,
   "metadata": {},
   "outputs": [],
   "source": [
    "import pickle\n",
    "\n",
    "with open('lgr_model.pickle','wb') as file:\n",
    "    pickle.dump(best_logreg_model1,file)"
   ]
  }
 ],
 "metadata": {
  "kernelspec": {
   "display_name": "Python 3.11.1 64-bit",
   "language": "python",
   "name": "python3"
  },
  "language_info": {
   "codemirror_mode": {
    "name": "ipython",
    "version": 3
   },
   "file_extension": ".py",
   "mimetype": "text/x-python",
   "name": "python",
   "nbconvert_exporter": "python",
   "pygments_lexer": "ipython3",
   "version": "3.11.1"
  },
  "vscode": {
   "interpreter": {
    "hash": "8455d5b13bcdb7ac8ae0bc5b4208eef9274fc59d9d9f4f560e91e25deeec1295"
   }
  }
 },
 "nbformat": 4,
 "nbformat_minor": 2
}
